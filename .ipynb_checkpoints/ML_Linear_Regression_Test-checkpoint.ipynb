{
 "cells": [
  {
   "cell_type": "code",
   "execution_count": 1,
   "id": "d3bc2c3a",
   "metadata": {},
   "outputs": [],
   "source": [
    "from sklearn.linear_model import LinearRegression\n",
    "import numpy as np\n",
    "import pandas as pd\n",
    "%matplotlib inline\n",
    "import matplotlib.pyplot as plt\n",
    "from pathlib import Path\n",
    "from path import Path\n",
    "\n",
    "\n",
    "pd.options.display.max_rows = 100"
   ]
  },
  {
   "cell_type": "code",
   "execution_count": 2,
   "id": "3599f6c8",
   "metadata": {},
   "outputs": [
    {
     "data": {
      "text/html": [
       "<div>\n",
       "<style scoped>\n",
       "    .dataframe tbody tr th:only-of-type {\n",
       "        vertical-align: middle;\n",
       "    }\n",
       "\n",
       "    .dataframe tbody tr th {\n",
       "        vertical-align: top;\n",
       "    }\n",
       "\n",
       "    .dataframe thead th {\n",
       "        text-align: right;\n",
       "    }\n",
       "</style>\n",
       "<table border=\"1\" class=\"dataframe\">\n",
       "  <thead>\n",
       "    <tr style=\"text-align: right;\">\n",
       "      <th></th>\n",
       "      <th>park_code</th>\n",
       "      <th>park_name</th>\n",
       "      <th>state</th>\n",
       "      <th>acres</th>\n",
       "      <th>latitude</th>\n",
       "      <th>longitude</th>\n",
       "      <th>trail_count</th>\n",
       "      <th>avg_popularity</th>\n",
       "      <th>species_count</th>\n",
       "    </tr>\n",
       "  </thead>\n",
       "  <tbody>\n",
       "    <tr>\n",
       "      <th>0</th>\n",
       "      <td>ACAD</td>\n",
       "      <td>Acadia National Park</td>\n",
       "      <td>ME</td>\n",
       "      <td>47390</td>\n",
       "      <td>44.35</td>\n",
       "      <td>-68.21</td>\n",
       "      <td>179</td>\n",
       "      <td>8.376</td>\n",
       "      <td>1709</td>\n",
       "    </tr>\n",
       "    <tr>\n",
       "      <th>1</th>\n",
       "      <td>ARCH</td>\n",
       "      <td>Arches National Park</td>\n",
       "      <td>UT</td>\n",
       "      <td>76519</td>\n",
       "      <td>38.68</td>\n",
       "      <td>-109.57</td>\n",
       "      <td>48</td>\n",
       "      <td>13.462</td>\n",
       "      <td>1048</td>\n",
       "    </tr>\n",
       "    <tr>\n",
       "      <th>2</th>\n",
       "      <td>BADL</td>\n",
       "      <td>Badlands National Park</td>\n",
       "      <td>SD</td>\n",
       "      <td>242756</td>\n",
       "      <td>43.75</td>\n",
       "      <td>-102.50</td>\n",
       "      <td>10</td>\n",
       "      <td>13.141</td>\n",
       "      <td>1389</td>\n",
       "    </tr>\n",
       "    <tr>\n",
       "      <th>3</th>\n",
       "      <td>BIBE</td>\n",
       "      <td>Big Bend National Park</td>\n",
       "      <td>TX</td>\n",
       "      <td>801163</td>\n",
       "      <td>29.25</td>\n",
       "      <td>-103.25</td>\n",
       "      <td>70</td>\n",
       "      <td>7.176</td>\n",
       "      <td>2269</td>\n",
       "    </tr>\n",
       "    <tr>\n",
       "      <th>4</th>\n",
       "      <td>BISC</td>\n",
       "      <td>Biscayne National Park</td>\n",
       "      <td>FL</td>\n",
       "      <td>172924</td>\n",
       "      <td>25.65</td>\n",
       "      <td>-80.08</td>\n",
       "      <td>4</td>\n",
       "      <td>4.055</td>\n",
       "      <td>1726</td>\n",
       "    </tr>\n",
       "  </tbody>\n",
       "</table>\n",
       "</div>"
      ],
      "text/plain": [
       "  park_code               park_name state   acres  latitude  longitude  \\\n",
       "0      ACAD    Acadia National Park    ME   47390     44.35     -68.21   \n",
       "1      ARCH    Arches National Park    UT   76519     38.68    -109.57   \n",
       "2      BADL  Badlands National Park    SD  242756     43.75    -102.50   \n",
       "3      BIBE  Big Bend National Park    TX  801163     29.25    -103.25   \n",
       "4      BISC  Biscayne National Park    FL  172924     25.65     -80.08   \n",
       "\n",
       "   trail_count  avg_popularity  species_count  \n",
       "0          179           8.376           1709  \n",
       "1           48          13.462           1048  \n",
       "2           10          13.141           1389  \n",
       "3           70           7.176           2269  \n",
       "4            4           4.055           1726  "
      ]
     },
     "execution_count": 2,
     "metadata": {},
     "output_type": "execute_result"
    }
   ],
   "source": [
    "# Load the data\n",
    "file_path = Path('Resources/parks_pop_bio.csv')\n",
    "df = pd.read_csv(file_path)\n",
    "df.head()"
   ]
  },
  {
   "cell_type": "code",
   "execution_count": 3,
   "id": "0b8bdb9d",
   "metadata": {},
   "outputs": [
    {
     "data": {
      "text/html": [
       "<div>\n",
       "<style scoped>\n",
       "    .dataframe tbody tr th:only-of-type {\n",
       "        vertical-align: middle;\n",
       "    }\n",
       "\n",
       "    .dataframe tbody tr th {\n",
       "        vertical-align: top;\n",
       "    }\n",
       "\n",
       "    .dataframe thead th {\n",
       "        text-align: right;\n",
       "    }\n",
       "</style>\n",
       "<table border=\"1\" class=\"dataframe\">\n",
       "  <thead>\n",
       "    <tr style=\"text-align: right;\">\n",
       "      <th></th>\n",
       "      <th>acres</th>\n",
       "      <th>latitude</th>\n",
       "      <th>longitude</th>\n",
       "      <th>trail_count</th>\n",
       "      <th>avg_popularity</th>\n",
       "      <th>species_count</th>\n",
       "    </tr>\n",
       "  </thead>\n",
       "  <tbody>\n",
       "    <tr>\n",
       "      <th>acres</th>\n",
       "      <td>1.000000</td>\n",
       "      <td>0.414927</td>\n",
       "      <td>-0.386267</td>\n",
       "      <td>0.081002</td>\n",
       "      <td>-0.284488</td>\n",
       "      <td>0.153942</td>\n",
       "    </tr>\n",
       "    <tr>\n",
       "      <th>latitude</th>\n",
       "      <td>0.414927</td>\n",
       "      <td>1.000000</td>\n",
       "      <td>-0.288320</td>\n",
       "      <td>0.020525</td>\n",
       "      <td>0.070684</td>\n",
       "      <td>-0.115567</td>\n",
       "    </tr>\n",
       "    <tr>\n",
       "      <th>longitude</th>\n",
       "      <td>-0.386267</td>\n",
       "      <td>-0.288320</td>\n",
       "      <td>1.000000</td>\n",
       "      <td>0.163631</td>\n",
       "      <td>-0.241009</td>\n",
       "      <td>0.035143</td>\n",
       "    </tr>\n",
       "    <tr>\n",
       "      <th>trail_count</th>\n",
       "      <td>0.081002</td>\n",
       "      <td>0.020525</td>\n",
       "      <td>0.163631</td>\n",
       "      <td>1.000000</td>\n",
       "      <td>0.191588</td>\n",
       "      <td>0.479280</td>\n",
       "    </tr>\n",
       "    <tr>\n",
       "      <th>avg_popularity</th>\n",
       "      <td>-0.284488</td>\n",
       "      <td>0.070684</td>\n",
       "      <td>-0.241009</td>\n",
       "      <td>0.191588</td>\n",
       "      <td>1.000000</td>\n",
       "      <td>-0.009580</td>\n",
       "    </tr>\n",
       "    <tr>\n",
       "      <th>species_count</th>\n",
       "      <td>0.153942</td>\n",
       "      <td>-0.115567</td>\n",
       "      <td>0.035143</td>\n",
       "      <td>0.479280</td>\n",
       "      <td>-0.009580</td>\n",
       "      <td>1.000000</td>\n",
       "    </tr>\n",
       "  </tbody>\n",
       "</table>\n",
       "</div>"
      ],
      "text/plain": [
       "                   acres  latitude  longitude  trail_count  avg_popularity  \\\n",
       "acres           1.000000  0.414927  -0.386267     0.081002       -0.284488   \n",
       "latitude        0.414927  1.000000  -0.288320     0.020525        0.070684   \n",
       "longitude      -0.386267 -0.288320   1.000000     0.163631       -0.241009   \n",
       "trail_count     0.081002  0.020525   0.163631     1.000000        0.191588   \n",
       "avg_popularity -0.284488  0.070684  -0.241009     0.191588        1.000000   \n",
       "species_count   0.153942 -0.115567   0.035143     0.479280       -0.009580   \n",
       "\n",
       "                species_count  \n",
       "acres                0.153942  \n",
       "latitude            -0.115567  \n",
       "longitude            0.035143  \n",
       "trail_count          0.479280  \n",
       "avg_popularity      -0.009580  \n",
       "species_count        1.000000  "
      ]
     },
     "execution_count": 3,
     "metadata": {},
     "output_type": "execute_result"
    }
   ],
   "source": [
    "df.corr()"
   ]
  },
  {
   "cell_type": "code",
   "execution_count": 4,
   "id": "3ffe8f95",
   "metadata": {},
   "outputs": [],
   "source": [
    "# Create variables for linear regression\n",
    "\n",
    "#confirm column name for X\n",
    "X = df[\"species_count\"]\n",
    "\n",
    "y = df[\"avg_popularity\"]\n"
   ]
  },
  {
   "cell_type": "code",
   "execution_count": 5,
   "id": "f7115949",
   "metadata": {},
   "outputs": [
    {
     "data": {
      "text/plain": [
       "<matplotlib.collections.PathCollection at 0x172b4ae21c8>"
      ]
     },
     "execution_count": 5,
     "metadata": {},
     "output_type": "execute_result"
    },
    {
     "data": {
      "image/png": "[encoded data removed]",
      "text/plain": [
       "<Figure size 432x288 with 1 Axes>"
      ]
     },
     "metadata": {
      "needs_background": "light"
     },
     "output_type": "display_data"
    }
   ],
   "source": [
    "plt.scatter(X, y)"
   ]
  },
  {
   "cell_type": "code",
   "execution_count": 6,
   "id": "2b47774f",
   "metadata": {},
   "outputs": [
    {
     "name": "stdout",
     "output_type": "stream",
     "text": [
      "[[1709]\n",
      " [1048]\n",
      " [1389]\n",
      " [2269]\n",
      " [1726]]\n",
      "(52, 1)\n"
     ]
    }
   ],
   "source": [
    "from sklearn.model_selection import train_test_split\n",
    "\n",
    "#X = np.array([row[0] for row in X]).reshape(-1, 1)\n",
    "X = df.species_count.values.reshape(-1, 1)\n",
    "X_train, X_test, y_train, y_test = train_test_split(X, y, random_state=42)\n",
    "\n",
    "print(X[:5])\n",
    "print(X.shape)"
   ]
  },
  {
   "cell_type": "code",
   "execution_count": 7,
   "id": "7cb23e2b",
   "metadata": {},
   "outputs": [
    {
     "data": {
      "text/plain": [
       "-0.017339511296133203"
      ]
     },
     "execution_count": 7,
     "metadata": {},
     "output_type": "execute_result"
    }
   ],
   "source": [
    "\n",
    "model = LinearRegression()\n",
    "model.fit(X_train,y_train)\n",
    "model.score(X_test, y_test)"
   ]
  },
  {
   "cell_type": "code",
   "execution_count": 8,
   "id": "cd89ecc1",
   "metadata": {},
   "outputs": [
    {
     "name": "stdout",
     "output_type": "stream",
     "text": [
      "Min X Value: [[848]]\n",
      "Max X Value: [[6623]]\n"
     ]
    }
   ],
   "source": [
    "# Test code for linear regression plot. TBD IF THIS WILL WORK\n",
    "\n",
    "# Note: We have to transform our min and max values\n",
    "# so they are in the format of array([[0.4999]]).\n",
    "# This is the required format for `model.predict()`.\n",
    "x_min = np.array([[X.min()]])\n",
    "x_max = np.array([[X.max()]])\n",
    "print(f\"Min X Value: {x_min}\")\n",
    "print(f\"Max X Value: {x_max}\")"
   ]
  },
  {
   "cell_type": "code",
   "execution_count": 9,
   "id": "9cc4d0bc",
   "metadata": {},
   "outputs": [
    {
     "name": "stdout",
     "output_type": "stream",
     "text": [
      "Weight coefficients:  [3.89766409e-05]\n",
      "y-axis intercept:  7.987526211584382\n"
     ]
    },
    {
     "data": {
      "text/plain": [
       "[<matplotlib.lines.Line2D at 0x172b4c3ff08>]"
      ]
     },
     "execution_count": 9,
     "metadata": {},
     "output_type": "execute_result"
    },
    {
     "data": {
      "image/png": "[encoded data removed]",
      "text/plain": [
       "<Figure size 432x288 with 1 Axes>"
      ]
     },
     "metadata": {
      "needs_background": "light"
     },
     "output_type": "display_data"
    }
   ],
   "source": [
    "# Test code for linear regression plot. TBD IF THIS WILL WORK\n",
    "# Calculate the y_min and y_max by using model.predict and x_min and x_max.\n",
    "\n",
    "# Print the coefficient and the intercept for the model.\n",
    "\n",
    "print('Weight coefficients: ', model.coef_)\n",
    "print('y-axis intercept: ', model.intercept_)\n",
    "\n",
    "y_min = model.predict(x_min)\n",
    "y_max = model.predict(x_max)\n",
    "\n",
    "# Plot X and y by using plt.scatter.\n",
    "# Plot the model fit line by using [x_min[0], x_max[0]], [y_min[0], y_max[0]].\n",
    "\n",
    "plt.scatter(X, y, c='blue')\n",
    "plt.plot([x_min[0], x_max[0]], [y_min[0], y_max[0]], c='red')\n"
   ]
  },
  {
   "cell_type": "code",
   "execution_count": null,
   "id": "a4be0f58",
   "metadata": {},
   "outputs": [],
   "source": [
    "# load in trail dataset\n",
    "file_path = ('Resources/trail_data.csv')\n",
    "trail_df = pd.read_csv(file_path)\n",
    "trail_df.head()"
   ]
  },
  {
   "cell_type": "code",
   "execution_count": null,
   "id": "0bbf048b",
   "metadata": {},
   "outputs": [],
   "source": [
    "# drop columns not needed for multi Linear Regression\n",
    "trail_df.drop(['_geoloc','features','activities','units'], axis=1, inplace=True)\n",
    "trail_df.head()"
   ]
  },
  {
   "cell_type": "code",
   "execution_count": null,
   "id": "c19f78fe",
   "metadata": {},
   "outputs": [],
   "source": []
  },
  {
   "cell_type": "code",
   "execution_count": null,
   "id": "810aed47",
   "metadata": {},
   "outputs": [],
   "source": []
  },
  {
   "cell_type": "code",
   "execution_count": null,
   "id": "2666e9eb",
   "metadata": {},
   "outputs": [],
   "source": []
  },
  {
   "cell_type": "code",
   "execution_count": null,
   "id": "82b7c860",
   "metadata": {},
   "outputs": [],
   "source": []
  },
  {
   "cell_type": "code",
   "execution_count": null,
   "id": "c4661b75",
   "metadata": {},
   "outputs": [],
   "source": []
  },
  {
   "cell_type": "code",
   "execution_count": null,
   "id": "ce0ce152",
   "metadata": {},
   "outputs": [],
   "source": []
  },
  {
   "cell_type": "code",
   "execution_count": null,
   "id": "c311272a",
   "metadata": {},
   "outputs": [],
   "source": []
  }
 ],
 "metadata": {
  "kernelspec": {
   "display_name": "Python 3 (ipykernel)",
   "language": "python",
   "name": "python3"
  },
  "language_info": {
   "codemirror_mode": {
    "name": "ipython",
    "version": 3
   },
   "file_extension": ".py",
   "mimetype": "text/x-python",
   "name": "python",
   "nbconvert_exporter": "python",
   "pygments_lexer": "ipython3",
   "version": "3.7.11"
  }
 },
 "nbformat": 4,
 "nbformat_minor": 5
}
